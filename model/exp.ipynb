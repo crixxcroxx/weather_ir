{
 "cells": [
  {
   "cell_type": "code",
   "execution_count": 1,
   "metadata": {},
   "outputs": [],
   "source": [
    "# unzip\n",
    "# unzip <src of zip> -d <where to unip>\n",
    "\n",
    "# check num files\n",
    "# ls <dir> -1 | wc -l"
   ]
  },
  {
   "cell_type": "code",
   "execution_count": 2,
   "metadata": {},
   "outputs": [],
   "source": [
    "import os\n",
    "import math\n",
    "import shutil\n",
    "import random\n",
    "from pathlib import Path\n",
    "\n",
    "\n",
    "data_path = Path(\"../data/dataset\")\n",
    "excl_path = [\"train\", \"test\"]\n",
    "\n",
    "# create test and train dirs\n",
    "for p in excl_path:\n",
    "    pth = data_path / p\n",
    "    if not pth.is_dir():\n",
    "        os.makedirs(pth)\n",
    "\n",
    "for path in data_path.iterdir():\n",
    "    if path.is_dir() and path.stem not in excl_path:\n",
    "        all_images = list(path.glob(\"*.jpg\"))\n",
    "        test_images = random.sample(population=all_images, k=math.floor(len(all_images)*0.2)) # 20% test\n",
    "        test_subdir = data_path / \"test\" / path.stem\n",
    "        train_subdir = data_path / \"train\" / path.stem\n",
    "\n",
    "        # move test images to each respective class (/test/class_name)\n",
    "        if not test_subdir.is_dir():\n",
    "            # create subdir for each class\n",
    "            os.makedirs(test_subdir)\n",
    "\n",
    "            for img_path_str in test_images:\n",
    "                img_path = Path(img_path_str)\n",
    "                shutil.move(img_path_str.absolute(), test_subdir.absolute())\n",
    "                \n",
    "        # move the remaining images to train directory\n",
    "        if not train_subdir.is_dir():\n",
    "            shutil.move(path, train_subdir)\n"
   ]
  },
  {
   "cell_type": "code",
   "execution_count": 3,
   "metadata": {},
   "outputs": [
    {
     "name": "stdout",
     "output_type": "stream",
     "text": [
      "test_dew => 139\n",
      "test_fogsmog => 170\n",
      "test_frost => 95\n",
      "test_glaze => 127\n",
      "test_hail => 118\n",
      "test_lightning => 75\n",
      "test_rain => 105\n",
      "test_rainbow => 46\n",
      "test_rime => 232\n",
      "test_sandstorm => 138\n",
      "test_snow => 124\n"
     ]
    }
   ],
   "source": [
    "test_path = data_path / \"test\"\n",
    "for d in test_path.iterdir():\n",
    "    print(f\"test_{d.stem} => {len(list(d.glob('*.jpg')))}\")"
   ]
  },
  {
   "cell_type": "code",
   "execution_count": 4,
   "metadata": {},
   "outputs": [
    {
     "name": "stdout",
     "output_type": "stream",
     "text": [
      "train_dew => 559\n",
      "train_fogsmog => 681\n",
      "train_frost => 380\n",
      "train_glaze => 512\n",
      "train_hail => 473\n",
      "train_lightning => 302\n",
      "train_rain => 421\n",
      "train_rainbow => 186\n",
      "train_rime => 928\n",
      "train_sandstorm => 554\n",
      "train_snow => 497\n"
     ]
    }
   ],
   "source": [
    "train_path = data_path / \"train\"\n",
    "for d in train_path.iterdir():\n",
    "    print(f\"train_{d.stem} => {len(list(d.glob('*.jpg')))}\")"
   ]
  },
  {
   "cell_type": "code",
   "execution_count": 5,
   "metadata": {},
   "outputs": [
    {
     "data": {
      "text/plain": [
       "6862"
      ]
     },
     "execution_count": 5,
     "metadata": {},
     "output_type": "execute_result"
    }
   ],
   "source": [
    "from torchvision import transforms\n",
    "from torchvision.datasets import ImageFolder\n",
    "from torch.utils.data import DataLoader\n",
    "\n",
    "BATCH_SIZE = 32\n",
    "NUM_WORKERS = 8\n",
    "\n",
    "T = transforms.Compose([\n",
    "    transforms.Resize(size=(224,224)),\n",
    "    transforms.ToTensor(),\n",
    "    transforms.Normalize(mean=[0.485, 0.456, 0.406],\n",
    "                         std=[0.229, 0.224, 0.225])\n",
    "])\n",
    "\n",
    "\n",
    "train_data = ImageFolder(root=train_path, transform=T)\n",
    "test_data = ImageFolder(root=test_path, transform=T)\n",
    "\n",
    "train_dataloader = DataLoader(dataset=train_data,\n",
    "                              batch_size=BATCH_SIZE,\n",
    "                              num_workers=NUM_WORKERS,\n",
    "                              shuffle=True)\n",
    "test_dataloader = DataLoader(dataset=test_data,\n",
    "                             batch_size=BATCH_SIZE,\n",
    "                             num_workers=NUM_WORKERS,\n",
    "                             shuffle=False)\n",
    "\n",
    "sum([len(train_data), len(test_data)])\n"
   ]
  },
  {
   "cell_type": "code",
   "execution_count": 6,
   "metadata": {},
   "outputs": [
    {
     "data": {
      "text/plain": [
       "['dew',\n",
       " 'fogsmog',\n",
       " 'frost',\n",
       " 'glaze',\n",
       " 'hail',\n",
       " 'lightning',\n",
       " 'rain',\n",
       " 'rainbow',\n",
       " 'rime',\n",
       " 'sandstorm',\n",
       " 'snow']"
      ]
     },
     "execution_count": 6,
     "metadata": {},
     "output_type": "execute_result"
    }
   ],
   "source": [
    "class_names = train_data.classes\n",
    "class_names"
   ]
  },
  {
   "cell_type": "code",
   "execution_count": 7,
   "metadata": {},
   "outputs": [],
   "source": [
    "import torch\n",
    "\n",
    "device = \"cuda\" if torch.cuda.is_available() else \"cpu\""
   ]
  },
  {
   "cell_type": "code",
   "execution_count": 8,
   "metadata": {},
   "outputs": [],
   "source": [
    "import torch.nn as nn\n",
    "from torchvision.models import efficientnet_b0, EfficientNet_B0_Weights\n",
    "\n",
    "model_v0 = efficientnet_b0(weights=EfficientNet_B0_Weights.DEFAULT)\n",
    "for param in model_v0.features.parameters():\n",
    "    param.requires_grad = False\n",
    "\n",
    "model_v0.classifier = nn.Sequential(\n",
    "    nn.Dropout(p=0.2, inplace=True),\n",
    "    nn.Linear(in_features=1280,\n",
    "              out_features=len(class_names),\n",
    "              bias=True)\n",
    ").to(device)"
   ]
  },
  {
   "cell_type": "code",
   "execution_count": 9,
   "metadata": {},
   "outputs": [
    {
     "data": {
      "text/plain": [
       "(torch.Size([3, 224, 224]), 0)"
      ]
     },
     "execution_count": 9,
     "metadata": {},
     "output_type": "execute_result"
    }
   ],
   "source": [
    "image, label = next(iter(train_data))\n",
    "image.shape, label"
   ]
  },
  {
   "cell_type": "code",
   "execution_count": 10,
   "metadata": {},
   "outputs": [
    {
     "data": {
      "text/plain": [
       "=======================================================================================================================================\n",
       "Layer (type:depth-idx)                                  Input Shape          Output Shape         Param #              Trainable\n",
       "=======================================================================================================================================\n",
       "EfficientNet                                            [1, 3, 224, 224]     [1, 11]              --                   Partial\n",
       "├─Sequential: 1-1                                       [1, 3, 224, 224]     [1, 1280, 7, 7]      --                   False\n",
       "│    └─Conv2dNormActivation: 2-1                        [1, 3, 224, 224]     [1, 32, 112, 112]    --                   False\n",
       "│    │    └─Conv2d: 3-1                                 [1, 3, 224, 224]     [1, 32, 112, 112]    (864)                False\n",
       "│    │    └─BatchNorm2d: 3-2                            [1, 32, 112, 112]    [1, 32, 112, 112]    (64)                 False\n",
       "│    │    └─SiLU: 3-3                                   [1, 32, 112, 112]    [1, 32, 112, 112]    --                   --\n",
       "│    └─Sequential: 2-2                                  [1, 32, 112, 112]    [1, 16, 112, 112]    --                   False\n",
       "│    │    └─MBConv: 3-4                                 [1, 32, 112, 112]    [1, 16, 112, 112]    (1,448)              False\n",
       "│    └─Sequential: 2-3                                  [1, 16, 112, 112]    [1, 24, 56, 56]      --                   False\n",
       "│    │    └─MBConv: 3-5                                 [1, 16, 112, 112]    [1, 24, 56, 56]      (6,004)              False\n",
       "│    │    └─MBConv: 3-6                                 [1, 24, 56, 56]      [1, 24, 56, 56]      (10,710)             False\n",
       "│    └─Sequential: 2-4                                  [1, 24, 56, 56]      [1, 40, 28, 28]      --                   False\n",
       "│    │    └─MBConv: 3-7                                 [1, 24, 56, 56]      [1, 40, 28, 28]      (15,350)             False\n",
       "│    │    └─MBConv: 3-8                                 [1, 40, 28, 28]      [1, 40, 28, 28]      (31,290)             False\n",
       "│    └─Sequential: 2-5                                  [1, 40, 28, 28]      [1, 80, 14, 14]      --                   False\n",
       "│    │    └─MBConv: 3-9                                 [1, 40, 28, 28]      [1, 80, 14, 14]      (37,130)             False\n",
       "│    │    └─MBConv: 3-10                                [1, 80, 14, 14]      [1, 80, 14, 14]      (102,900)            False\n",
       "│    │    └─MBConv: 3-11                                [1, 80, 14, 14]      [1, 80, 14, 14]      (102,900)            False\n",
       "│    └─Sequential: 2-6                                  [1, 80, 14, 14]      [1, 112, 14, 14]     --                   False\n",
       "│    │    └─MBConv: 3-12                                [1, 80, 14, 14]      [1, 112, 14, 14]     (126,004)            False\n",
       "│    │    └─MBConv: 3-13                                [1, 112, 14, 14]     [1, 112, 14, 14]     (208,572)            False\n",
       "│    │    └─MBConv: 3-14                                [1, 112, 14, 14]     [1, 112, 14, 14]     (208,572)            False\n",
       "│    └─Sequential: 2-7                                  [1, 112, 14, 14]     [1, 192, 7, 7]       --                   False\n",
       "│    │    └─MBConv: 3-15                                [1, 112, 14, 14]     [1, 192, 7, 7]       (262,492)            False\n",
       "│    │    └─MBConv: 3-16                                [1, 192, 7, 7]       [1, 192, 7, 7]       (587,952)            False\n",
       "│    │    └─MBConv: 3-17                                [1, 192, 7, 7]       [1, 192, 7, 7]       (587,952)            False\n",
       "│    │    └─MBConv: 3-18                                [1, 192, 7, 7]       [1, 192, 7, 7]       (587,952)            False\n",
       "│    └─Sequential: 2-8                                  [1, 192, 7, 7]       [1, 320, 7, 7]       --                   False\n",
       "│    │    └─MBConv: 3-19                                [1, 192, 7, 7]       [1, 320, 7, 7]       (717,232)            False\n",
       "│    └─Conv2dNormActivation: 2-9                        [1, 320, 7, 7]       [1, 1280, 7, 7]      --                   False\n",
       "│    │    └─Conv2d: 3-20                                [1, 320, 7, 7]       [1, 1280, 7, 7]      (409,600)            False\n",
       "│    │    └─BatchNorm2d: 3-21                           [1, 1280, 7, 7]      [1, 1280, 7, 7]      (2,560)              False\n",
       "│    │    └─SiLU: 3-22                                  [1, 1280, 7, 7]      [1, 1280, 7, 7]      --                   --\n",
       "├─AdaptiveAvgPool2d: 1-2                                [1, 1280, 7, 7]      [1, 1280, 1, 1]      --                   --\n",
       "├─Sequential: 1-3                                       [1, 1280]            [1, 11]              --                   True\n",
       "│    └─Dropout: 2-10                                    [1, 1280]            [1, 1280]            --                   --\n",
       "│    └─Linear: 2-11                                     [1, 1280]            [1, 11]              14,091               True\n",
       "=======================================================================================================================================\n",
       "Total params: 4,021,639\n",
       "Trainable params: 14,091\n",
       "Non-trainable params: 4,007,548\n",
       "Total mult-adds (Units.MEGABYTES): 384.60\n",
       "=======================================================================================================================================\n",
       "Input size (MB): 0.60\n",
       "Forward/backward pass size (MB): 107.88\n",
       "Params size (MB): 16.09\n",
       "Estimated Total Size (MB): 124.57\n",
       "======================================================================================================================================="
      ]
     },
     "execution_count": 10,
     "metadata": {},
     "output_type": "execute_result"
    }
   ],
   "source": [
    "from torchinfo import summary\n",
    "\n",
    "summary(model=model_v0,\n",
    "        input_size=(1, 3, 224, 224),\n",
    "        col_names=[\"input_size\", \"output_size\", \"num_params\", \"trainable\"],\n",
    "        col_width=20)"
   ]
  },
  {
   "cell_type": "code",
   "execution_count": 11,
   "metadata": {},
   "outputs": [],
   "source": [
    "from torch.optim import Adam\n",
    "\n",
    "loss_fn = nn.CrossEntropyLoss()\n",
    "optimizer = Adam(params=model_v0.parameters(), lr=0.001)"
   ]
  },
  {
   "cell_type": "code",
   "execution_count": 12,
   "metadata": {},
   "outputs": [
    {
     "name": "stdout",
     "output_type": "stream",
     "text": [
      "Epoch: 0 ~ Acc: 70.9995 | Loss: 1.0918\n",
      "Epoch: 1 ~ Acc: 82.6324 | Loss: 0.6002\n",
      "Epoch: 2 ~ Acc: 84.7988 | Loss: 0.5051\n",
      "Epoch: 3 ~ Acc: 85.9457 | Loss: 0.4624\n",
      "Epoch: 4 ~ Acc: 86.0732 | Loss: 0.4349\n"
     ]
    }
   ],
   "source": [
    "model_v0.train()\n",
    "\n",
    "for  epoch in range(5):\n",
    "    train_loss = 0\n",
    "    correct = 0\n",
    "    total = 0\n",
    "    \n",
    "    for batch, (input, label) in enumerate(train_dataloader):\n",
    "        input, label = input.to(device), label.to(device)\n",
    "        optimizer.zero_grad()\n",
    "\n",
    "        pred = model_v0(input)\n",
    "\n",
    "        loss = loss_fn(pred, label)\n",
    "        loss.backward()\n",
    "\n",
    "        optimizer.step()\n",
    "    \n",
    "        # \n",
    "        _, prediction = pred.max(dim=1)\n",
    "        total += label.size(0)\n",
    "        correct += prediction.eq(label).sum().item()\n",
    "        train_loss += loss.item() \n",
    "\n",
    "    print(f\"Epoch: {epoch} ~ Acc: {(correct/total)*100:.4f} | Loss: {(train_loss / len(train_dataloader)):.4f}\")"
   ]
  },
  {
   "cell_type": "code",
   "execution_count": 13,
   "metadata": {},
   "outputs": [
    {
     "name": "stdout",
     "output_type": "stream",
     "text": [
      "Test Acc: 86.5595\n"
     ]
    }
   ],
   "source": [
    "model_v0.eval()\n",
    "correct = 0\n",
    "total = 0\n",
    "\n",
    "with torch.inference_mode():\n",
    "    for inputs, labels in test_dataloader:\n",
    "        inputs, labels = inputs.to(device), labels.to(device)\n",
    "\n",
    "        test_pred = model_v0(inputs)\n",
    "        _, prediction = test_pred.max(dim=1)\n",
    "\n",
    "        total += labels.size(0)\n",
    "        correct += prediction.eq(labels).sum().item()\n",
    "    \n",
    "    print(f\"Test Acc: {(correct/total)*100:.4f}\")"
   ]
  }
 ],
 "metadata": {
  "kernelspec": {
   "display_name": "weather_ir-02WrEn8m",
   "language": "python",
   "name": "python3"
  },
  "language_info": {
   "codemirror_mode": {
    "name": "ipython",
    "version": 3
   },
   "file_extension": ".py",
   "mimetype": "text/x-python",
   "name": "python",
   "nbconvert_exporter": "python",
   "pygments_lexer": "ipython3",
   "version": "3.11.11"
  }
 },
 "nbformat": 4,
 "nbformat_minor": 2
}
