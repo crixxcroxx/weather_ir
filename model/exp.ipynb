{
 "cells": [
  {
   "cell_type": "code",
   "execution_count": 175,
   "metadata": {},
   "outputs": [],
   "source": [
    "# unzip\n",
    "# unzip <src of zip> -d <where to unip>\n",
    "\n",
    "# check num files\n",
    "# ls <dir> -1 | wc -l"
   ]
  },
  {
   "cell_type": "code",
   "execution_count": 172,
   "metadata": {},
   "outputs": [],
   "source": [
    "import os\n",
    "import math\n",
    "import shutil\n",
    "import random\n",
    "from pathlib import Path\n",
    "\n",
    "\n",
    "data_path = Path(\"../data/dataset\")\n",
    "excl_path = [\"train\", \"test\"]\n",
    "\n",
    "# create test and train dirs\n",
    "for p in excl_path:\n",
    "    pth = data_path / p\n",
    "    if not pth.is_dir():\n",
    "        os.makedirs(pth)\n",
    "\n",
    "for path in data_path.iterdir():\n",
    "    if path.is_dir() and path.stem not in excl_path:\n",
    "        all_images = list(path.glob(\"*.jpg\"))\n",
    "        test_images = random.sample(population=all_images, k=math.floor(len(all_images)*0.2)) # 20% test\n",
    "        test_subdir = data_path / \"test\" / path.stem\n",
    "        train_subdir = data_path / \"train\" / path.stem\n",
    "\n",
    "        # move test images to each respective class (/test/class_name)\n",
    "        if not test_subdir.is_dir():\n",
    "            # create subdir for each class\n",
    "            os.makedirs(test_subdir)\n",
    "\n",
    "            for img_path_str in test_images:\n",
    "                img_path = Path(img_path_str)\n",
    "                shutil.move(img_path_str.absolute(), test_subdir.absolute())\n",
    "                \n",
    "        # move the remaining images to train directory\n",
    "        if not train_subdir.is_dir():\n",
    "            shutil.move(path, train_subdir)\n"
   ]
  },
  {
   "cell_type": "code",
   "execution_count": 173,
   "metadata": {},
   "outputs": [
    {
     "name": "stdout",
     "output_type": "stream",
     "text": [
      "test_dew => 139\n",
      "test_fogsmog => 170\n",
      "test_frost => 95\n",
      "test_glaze => 127\n",
      "test_hail => 118\n",
      "test_lightning => 75\n",
      "test_rain => 105\n",
      "test_rainbow => 46\n",
      "test_rime => 232\n",
      "test_sandstorm => 138\n",
      "test_snow => 124\n"
     ]
    }
   ],
   "source": [
    "test = data_path / \"test\"\n",
    "for d in test.iterdir():\n",
    "    print(f\"test_{d.stem} => {len(list(d.glob('*.jpg')))}\")"
   ]
  },
  {
   "cell_type": "code",
   "execution_count": 174,
   "metadata": {},
   "outputs": [
    {
     "name": "stdout",
     "output_type": "stream",
     "text": [
      "train_dew => 559\n",
      "train_fogsmog => 681\n",
      "train_frost => 380\n",
      "train_glaze => 512\n",
      "train_hail => 473\n",
      "train_lightning => 302\n",
      "train_rain => 421\n",
      "train_rainbow => 186\n",
      "train_rime => 928\n",
      "train_sandstorm => 554\n",
      "train_snow => 497\n"
     ]
    }
   ],
   "source": [
    "train = data_path / \"train\"\n",
    "for d in train.iterdir():\n",
    "    print(f\"train_{d.stem} => {len(list(d.glob('*.jpg')))}\")"
   ]
  }
 ],
 "metadata": {
  "kernelspec": {
   "display_name": "weather_ir-02WrEn8m",
   "language": "python",
   "name": "python3"
  },
  "language_info": {
   "codemirror_mode": {
    "name": "ipython",
    "version": 3
   },
   "file_extension": ".py",
   "mimetype": "text/x-python",
   "name": "python",
   "nbconvert_exporter": "python",
   "pygments_lexer": "ipython3",
   "version": "3.11.11"
  }
 },
 "nbformat": 4,
 "nbformat_minor": 2
}
